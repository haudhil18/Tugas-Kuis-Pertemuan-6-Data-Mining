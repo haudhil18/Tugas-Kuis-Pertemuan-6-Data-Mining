{
  "nbformat": 4,
  "nbformat_minor": 0,
  "metadata": {
    "colab": {
      "name": "knn.ipynb",
      "provenance": [],
      "collapsed_sections": []
    },
    "kernelspec": {
      "name": "python3",
      "display_name": "Python 3"
    },
    "language_info": {
      "name": "python"
    }
  },
  "cells": [
    {
      "cell_type": "code",
      "metadata": {
        "id": "zLVt71CaNXdb"
      },
      "source": [
        "import numpy as np\n",
        "import matplotlib.pyplot as plt\n",
        "import pandas as pd"
      ],
      "execution_count": 1,
      "outputs": []
    },
    {
      "cell_type": "code",
      "metadata": {
        "id": "3duwSb6FPKPO"
      },
      "source": [
        "dataset = pd.read_csv('Facebook_Ads.csv')\n",
        "x = dataset.iloc[:, [2, 3]].values\n",
        "y = dataset.iloc[:, -1].values"
      ],
      "execution_count": 2,
      "outputs": []
    },
    {
      "cell_type": "code",
      "metadata": {
        "colab": {
          "base_uri": "https://localhost:8080/"
        },
        "id": "350pXeNCPzSU",
        "outputId": "b2d02969-d48c-446b-a92a-a71134200277"
      },
      "source": [
        "print(x)"
      ],
      "execution_count": 3,
      "outputs": [
        {
          "output_type": "stream",
          "text": [
            "[[2.56496480e+09 5.53300000e+04]\n",
            " [3.24561067e+08 7.90490000e+04]\n",
            " [2.09500000e+01 4.10990000e+04]\n",
            " [5.40400000e+01 3.71430000e+04]\n",
            " [3.42500000e+01 3.73550000e+04]\n",
            " [5.20100000e+01 8.06430000e+04]\n",
            " [4.28800000e+01 6.19080000e+04]\n",
            " [2.56800000e+01 2.98510000e+04]\n",
            " [4.07000000e+01 3.42810000e+04]\n",
            " [2.96900000e+01 4.10990000e+04]\n",
            " [3.32700000e+01 5.41270000e+04]\n",
            " [3.45300000e+01 3.02220000e+04]\n",
            " [2.53100000e+01 4.37640000e+04]\n",
            " [4.65400000e+01 4.86630000e+04]\n",
            " [3.77200000e+01 6.46960000e+04]\n",
            " [2.50600000e+01 1.77600000e+04]\n",
            " [4.11000000e+01 4.94630000e+04]\n",
            " [2.47600000e+01 3.84840000e+04]\n",
            " [4.88700000e+01 3.47740000e+04]\n",
            " [2.78300000e+01 5.16440000e+04]\n",
            " [1.71000000e+01 6.16620000e+04]\n",
            " [2.56000000e+01 5.36310000e+04]\n",
            " [4.22500000e+01 3.22150000e+04]\n",
            " [3.71400000e+01 5.17340000e+04]\n",
            " [3.24400000e+01 5.16780000e+04]\n",
            " [1.99400000e+01 3.42640000e+04]\n",
            " [3.98200000e+01 7.05030000e+04]\n",
            " [3.07300000e+01 6.70220000e+04]\n",
            " [2.40400000e+01 3.64750000e+04]\n",
            " [3.90600000e+01 2.91780000e+04]\n",
            " [3.12500000e+01 7.60640000e+04]\n",
            " [3.60600000e+01 6.52030000e+04]\n",
            " [1.99100000e+01 3.28950000e+04]\n",
            " [2.24600000e+01 4.77700000e+04]\n",
            " [3.67700000e+01 5.34640000e+04]\n",
            " [3.59600000e+01 2.36830000e+04]\n",
            " [4.19900000e+01 5.47270000e+04]\n",
            " [3.45400000e+01 7.81560000e+04]\n",
            " [2.48300000e+01 4.31270000e+04]\n",
            " [3.85900000e+01 5.45240000e+04]\n",
            " [3.05200000e+01 1.20660000e+04]\n",
            " [2.89400000e+01 2.98990000e+04]\n",
            " [4.09800000e+01 4.55910000e+04]\n",
            " [2.76000000e+01 3.22420000e+04]\n",
            " [1.90900000e+01 3.92800000e+04]\n",
            " [1.88800000e+01 5.25190000e+04]\n",
            " [2.07100000e+01 3.39930000e+04]\n",
            " [2.74000000e+01 4.80260000e+04]\n",
            " [3.90500000e+01 7.35170000e+04]\n",
            " [3.63000000e+01 2.93550000e+04]\n",
            " [3.88100000e+01 6.12990000e+04]\n",
            " [2.62400000e+01 6.13470000e+04]\n",
            " [2.07800000e+01 2.56430000e+04]\n",
            " [2.60100000e+01 3.69480000e+04]\n",
            " [6.00000000e+01 7.64990000e+04]\n",
            " [2.74300000e+01 4.08140000e+04]\n",
            " [2.63900000e+01 3.70800000e+04]\n",
            " [4.70700000e+01 8.07100000e+04]\n",
            " [4.18100000e+01 7.95240000e+04]\n",
            " [3.68100000e+01 8.12820000e+04]\n",
            " [2.98400000e+01 1.00000000e+05]\n",
            " [4.19600000e+01 6.34790000e+04]\n",
            " [4.29100000e+01 5.58970000e+04]\n",
            " [3.15200000e+01 3.52770000e+04]\n",
            " [4.44500000e+01 7.80400000e+04]\n",
            " [3.86500000e+01 5.77930000e+04]\n",
            " [2.98600000e+01 4.94640000e+04]\n",
            " [3.18700000e+01 5.68630000e+04]\n",
            " [3.51200000e+01 7.14800000e+04]\n",
            " [4.36200000e+01 4.39390000e+04]\n",
            " [2.78000000e+01 3.86510000e+04]\n",
            " [4.14600000e+01 7.59230000e+04]\n",
            " [2.64100000e+01 5.53890000e+04]\n",
            " [2.47100000e+01 5.81650000e+04]\n",
            " [3.82400000e+01 5.28410000e+04]\n",
            " [5.30700000e+01 6.53450000e+04]\n",
            " [3.81700000e+01 2.87280000e+04]\n",
            " [2.64100000e+01 2.83490000e+04]\n",
            " [1.98500000e+01 1.92960000e+04]\n",
            " [4.64700000e+01 6.89880000e+04]\n",
            " [2.78700000e+01 2.35530000e+04]\n",
            " [3.76300000e+01 5.10370000e+04]\n",
            " [1.56200000e+01 3.15310000e+04]\n",
            " [4.27700000e+01 7.06510000e+04]\n",
            " [2.97700000e+01 7.25350000e+04]\n",
            " [3.05800000e+01 6.57430000e+04]\n",
            " [3.17200000e+01 7.30470000e+04]\n",
            " [4.13600000e+01 7.31580000e+04]\n",
            " [2.72900000e+01 5.25870000e+04]\n",
            " [2.58000000e+01 3.05410000e+04]\n",
            " [3.96300000e+01 7.72450000e+04]\n",
            " [2.01700000e+01 3.44980000e+04]\n",
            " [4.44600000e+01 6.30840000e+04]\n",
            " [1.18600000e+01 5.33850000e+04]\n",
            " [4.84800000e+01 6.64400000e+04]\n",
            " [1.90000000e+01 5.08820000e+04]\n",
            " [2.46500000e+01 4.42890000e+04]\n",
            " [2.88600000e+01 5.55950000e+04]\n",
            " [1.28700000e+01 2.71480000e+04]\n",
            " [5.63800000e+01 6.07820000e+04]]\n"
          ],
          "name": "stdout"
        }
      ]
    },
    {
      "cell_type": "code",
      "metadata": {
        "colab": {
          "base_uri": "https://localhost:8080/"
        },
        "id": "sv-hPGmTP56o",
        "outputId": "83497a41-78e0-4e40-feab-1fbcb7c8be4e"
      },
      "source": [
        "print(y)"
      ],
      "execution_count": 4,
      "outputs": [
        {
          "output_type": "stream",
          "text": [
            "[0 1 0 1 0 1 1 0 1 0 0 0 0 1 1 0 1 0 1 0 0 0 1 1 0 0 1 1 1 0 1 1 0 0 0 0 1\n",
            " 1 0 1 0 0 1 0 0 0 1 0 1 1 1 0 0 0 1 0 0 1 1 1 1 1 1 0 1 1 0 1 1 0 0 1 0 0\n",
            " 0 1 0 0 0 1 0 1 0 1 1 1 1 1 1 0 1 0 1 0 1 0 1 0 0 1]\n"
          ],
          "name": "stdout"
        }
      ]
    },
    {
      "cell_type": "code",
      "metadata": {
        "id": "_pOQRRnUQFIs"
      },
      "source": [
        "from sklearn.model_selection import train_test_split\n",
        "x_train, x_test, y_train, y_test = train_test_split(x, y, test_size = 0.25, random_state = 0)"
      ],
      "execution_count": 5,
      "outputs": []
    },
    {
      "cell_type": "code",
      "metadata": {
        "colab": {
          "base_uri": "https://localhost:8080/"
        },
        "id": "5aEUnsokQ8Z4",
        "outputId": "4a7c7bce-9243-4fb2-e479-3a2d9eee77f2"
      },
      "source": [
        "print(x_train)"
      ],
      "execution_count": 6,
      "outputs": [
        {
          "output_type": "stream",
          "text": [
            "[[3.90500000e+01 7.35170000e+04]\n",
            " [4.28800000e+01 6.19080000e+04]\n",
            " [5.63800000e+01 6.07820000e+04]\n",
            " [1.56200000e+01 3.15310000e+04]\n",
            " [3.81700000e+01 2.87280000e+04]\n",
            " [2.98400000e+01 1.00000000e+05]\n",
            " [2.78700000e+01 2.35530000e+04]\n",
            " [3.96300000e+01 7.72450000e+04]\n",
            " [3.51200000e+01 7.14800000e+04]\n",
            " [2.62400000e+01 6.13470000e+04]\n",
            " [3.07300000e+01 6.70220000e+04]\n",
            " [4.88700000e+01 3.47740000e+04]\n",
            " [2.63900000e+01 3.70800000e+04]\n",
            " [3.15200000e+01 3.52770000e+04]\n",
            " [3.82400000e+01 5.28410000e+04]\n",
            " [3.24561067e+08 7.90490000e+04]\n",
            " [4.19600000e+01 6.34790000e+04]\n",
            " [4.09800000e+01 4.55910000e+04]\n",
            " [2.89400000e+01 2.98990000e+04]\n",
            " [3.42500000e+01 3.73550000e+04]\n",
            " [2.50600000e+01 1.77600000e+04]\n",
            " [2.47600000e+01 3.84840000e+04]\n",
            " [3.05200000e+01 1.20660000e+04]\n",
            " [2.48300000e+01 4.31270000e+04]\n",
            " [5.20100000e+01 8.06430000e+04]\n",
            " [2.01700000e+01 3.44980000e+04]\n",
            " [3.68100000e+01 8.12820000e+04]\n",
            " [2.56496480e+09 5.53300000e+04]\n",
            " [3.67700000e+01 5.34640000e+04]\n",
            " [2.40400000e+01 3.64750000e+04]\n",
            " [3.88100000e+01 6.12990000e+04]\n",
            " [3.45300000e+01 3.02220000e+04]\n",
            " [3.59600000e+01 2.36830000e+04]\n",
            " [3.71400000e+01 5.17340000e+04]\n",
            " [2.07800000e+01 2.56430000e+04]\n",
            " [3.32700000e+01 5.41270000e+04]\n",
            " [3.60600000e+01 6.52030000e+04]\n",
            " [2.98600000e+01 4.94640000e+04]\n",
            " [4.70700000e+01 8.07100000e+04]\n",
            " [4.64700000e+01 6.89880000e+04]\n",
            " [3.05800000e+01 6.57430000e+04]\n",
            " [1.99100000e+01 3.28950000e+04]\n",
            " [2.97700000e+01 7.25350000e+04]\n",
            " [3.77200000e+01 6.46960000e+04]\n",
            " [2.58000000e+01 3.05410000e+04]\n",
            " [2.78300000e+01 5.16440000e+04]\n",
            " [3.90600000e+01 2.91780000e+04]\n",
            " [3.63000000e+01 2.93550000e+04]\n",
            " [2.88600000e+01 5.55950000e+04]\n",
            " [1.28700000e+01 2.71480000e+04]\n",
            " [4.36200000e+01 4.39390000e+04]\n",
            " [1.71000000e+01 6.16620000e+04]\n",
            " [4.84800000e+01 6.64400000e+04]\n",
            " [2.64100000e+01 5.53890000e+04]\n",
            " [2.64100000e+01 2.83490000e+04]\n",
            " [1.99400000e+01 3.42640000e+04]\n",
            " [3.45400000e+01 7.81560000e+04]\n",
            " [3.76300000e+01 5.10370000e+04]\n",
            " [2.07100000e+01 3.39930000e+04]\n",
            " [3.85900000e+01 5.45240000e+04]\n",
            " [3.86500000e+01 5.77930000e+04]\n",
            " [4.18100000e+01 7.95240000e+04]\n",
            " [2.53100000e+01 4.37640000e+04]\n",
            " [2.72900000e+01 5.25870000e+04]\n",
            " [2.78000000e+01 3.86510000e+04]\n",
            " [4.13600000e+01 7.31580000e+04]\n",
            " [4.19900000e+01 5.47270000e+04]\n",
            " [2.56000000e+01 5.36310000e+04]\n",
            " [4.27700000e+01 7.06510000e+04]\n",
            " [2.96900000e+01 4.10990000e+04]\n",
            " [2.46500000e+01 4.42890000e+04]\n",
            " [3.18700000e+01 5.68630000e+04]\n",
            " [4.44500000e+01 7.80400000e+04]\n",
            " [2.74000000e+01 4.80260000e+04]\n",
            " [1.90900000e+01 3.92800000e+04]]\n"
          ],
          "name": "stdout"
        }
      ]
    },
    {
      "cell_type": "code",
      "metadata": {
        "colab": {
          "base_uri": "https://localhost:8080/"
        },
        "id": "rGpOVC2wRBls",
        "outputId": "bbc90a4f-e8a0-482c-d37b-17eeabc4814a"
      },
      "source": [
        "print(x_test)"
      ],
      "execution_count": 7,
      "outputs": [
        {
          "output_type": "stream",
          "text": [
            "[[3.9820e+01 7.0503e+04]\n",
            " [3.1720e+01 7.3047e+04]\n",
            " [2.0950e+01 4.1099e+04]\n",
            " [2.7430e+01 4.0814e+04]\n",
            " [5.3070e+01 6.5345e+04]\n",
            " [1.1860e+01 5.3385e+04]\n",
            " [4.1100e+01 4.9463e+04]\n",
            " [2.4710e+01 5.8165e+04]\n",
            " [6.0000e+01 7.6499e+04]\n",
            " [1.9000e+01 5.0882e+04]\n",
            " [2.6010e+01 3.6948e+04]\n",
            " [4.4460e+01 6.3084e+04]\n",
            " [1.9850e+01 1.9296e+04]\n",
            " [4.6540e+01 4.8663e+04]\n",
            " [2.5680e+01 2.9851e+04]\n",
            " [3.1250e+01 7.6064e+04]\n",
            " [4.2250e+01 3.2215e+04]\n",
            " [3.2440e+01 5.1678e+04]\n",
            " [2.2460e+01 4.7770e+04]\n",
            " [4.0700e+01 3.4281e+04]\n",
            " [2.7600e+01 3.2242e+04]\n",
            " [4.2910e+01 5.5897e+04]\n",
            " [5.4040e+01 3.7143e+04]\n",
            " [4.1460e+01 7.5923e+04]\n",
            " [1.8880e+01 5.2519e+04]]\n"
          ],
          "name": "stdout"
        }
      ]
    },
    {
      "cell_type": "code",
      "metadata": {
        "colab": {
          "base_uri": "https://localhost:8080/"
        },
        "id": "qhyFsrqIS6KW",
        "outputId": "d37e059e-e520-41fb-a566-6347f80cc2b1"
      },
      "source": [
        "print(y_train)"
      ],
      "execution_count": 8,
      "outputs": [
        {
          "output_type": "stream",
          "text": [
            "[1 1 1 0 0 1 0 1 1 0 1 1 0 0 0 1 1 1 0 0 0 0 0 0 1 0 1 0 0 1 1 0 0 1 0 0 1\n",
            " 0 1 1 1 0 1 1 0 0 0 1 0 0 0 0 1 0 0 0 1 1 1 1 1 1 0 1 0 1 1 0 1 0 1 1 1 0\n",
            " 0]\n"
          ],
          "name": "stdout"
        }
      ]
    },
    {
      "cell_type": "code",
      "metadata": {
        "colab": {
          "base_uri": "https://localhost:8080/"
        },
        "id": "MuUUkf5WS-Zt",
        "outputId": "d66b8258-ccd7-49c4-d02b-9c88daef0260"
      },
      "source": [
        "print(y_test)"
      ],
      "execution_count": 9,
      "outputs": [
        {
          "output_type": "stream",
          "text": [
            "[1 1 0 0 1 0 1 0 1 0 0 1 0 1 0 1 1 0 0 1 0 1 1 1 0]\n"
          ],
          "name": "stdout"
        }
      ]
    },
    {
      "cell_type": "code",
      "metadata": {
        "id": "hcPwmnaSTBqU"
      },
      "source": [
        "from sklearn.preprocessing import StandardScaler\n",
        "sc = StandardScaler()\n",
        "x_train = sc.fit_transform(x_train)\n",
        "x_test = sc.transform(x_test)"
      ],
      "execution_count": 10,
      "outputs": []
    },
    {
      "cell_type": "code",
      "metadata": {
        "colab": {
          "base_uri": "https://localhost:8080/"
        },
        "id": "ngho88YmTfWQ",
        "outputId": "d6f1018f-e637-43b4-d173-f65dd97b31cc"
      },
      "source": [
        "print(x_train)"
      ],
      "execution_count": 11,
      "outputs": [
        {
          "output_type": "stream",
          "text": [
            "[[-1.30140389e-01  1.21459568e+00]\n",
            " [-1.30140376e-01  5.84351201e-01]\n",
            " [-1.30140330e-01  5.23221450e-01]\n",
            " [-1.30140468e-01 -1.06479485e+00]\n",
            " [-1.30140392e-01 -1.21696776e+00]\n",
            " [-1.30140420e-01  2.65233920e+00]\n",
            " [-1.30140426e-01 -1.49791489e+00]\n",
            " [-1.30140387e-01  1.41698619e+00]\n",
            " [-1.30140402e-01  1.10400838e+00]\n",
            " [-1.30140432e-01  5.53894904e-01]\n",
            " [-1.30140417e-01  8.61986679e-01]\n",
            " [-1.30140355e-01 -8.88734655e-01]\n",
            " [-1.30140431e-01 -7.63543530e-01]\n",
            " [-1.30140414e-01 -8.61427138e-01]\n",
            " [-1.30140391e-01  9.21101212e-02]\n",
            " [ 9.66194479e-01  1.51492409e+00]\n",
            " [-1.30140379e-01  6.69639691e-01]\n",
            " [-1.30140382e-01 -3.01487301e-01]\n",
            " [-1.30140423e-01 -1.15339499e+00]\n",
            " [-1.30140405e-01 -7.48613973e-01]\n",
            " [-1.30140436e-01 -1.81241280e+00]\n",
            " [-1.30140437e-01 -6.87321354e-01]\n",
            " [-1.30140417e-01 -2.12153607e+00]\n",
            " [-1.30140437e-01 -4.35256135e-01]\n",
            " [-1.30140345e-01  1.60146123e+00]\n",
            " [-1.30140452e-01 -9.03718502e-01]\n",
            " [-1.30140396e-01  1.63615209e+00]\n",
            " [ 8.53405541e+00  2.27236188e-01]\n",
            " [-1.30140396e-01  1.25932355e-01]\n",
            " [-1.30140439e-01 -7.96388557e-01]\n",
            " [-1.30140389e-01  5.51289018e-01]\n",
            " [-1.30140404e-01 -1.13585955e+00]\n",
            " [-1.30140399e-01 -1.49085728e+00]\n",
            " [-1.30140395e-01  3.20118665e-02]\n",
            " [-1.30140450e-01 -1.38445025e+00]\n",
            " [-1.30140408e-01  1.61926161e-01]\n",
            " [-1.30140399e-01  7.63234443e-01]\n",
            " [-1.30140420e-01 -9.12248437e-02]\n",
            " [-1.30140362e-01  1.60509861e+00]\n",
            " [-1.30140364e-01  9.68719442e-01]\n",
            " [-1.30140417e-01  7.92550665e-01]\n",
            " [-1.30140453e-01 -9.90744249e-01]\n",
            " [-1.30140420e-01  1.16128359e+00]\n",
            " [-1.30140393e-01  7.35709768e-01]\n",
            " [-1.30140433e-01 -1.11854126e+00]\n",
            " [-1.30140427e-01  2.71258295e-02]\n",
            " [-1.30140389e-01 -1.19253758e+00]\n",
            " [-1.30140398e-01 -1.18292837e+00]\n",
            " [-1.30140423e-01  2.41622852e-01]\n",
            " [-1.30140477e-01 -1.30274485e+00]\n",
            " [-1.30140373e-01 -3.91173224e-01]\n",
            " [-1.30140463e-01  5.70996033e-01]\n",
            " [-1.30140357e-01  8.30390307e-01]\n",
            " [-1.30140431e-01  2.30439257e-01]\n",
            " [-1.30140431e-01 -1.23754341e+00]\n",
            " [-1.30140453e-01 -9.16422198e-01]\n",
            " [-1.30140404e-01  1.46644374e+00]\n",
            " [-1.30140393e-01 -5.82777535e-03]\n",
            " [-1.30140451e-01 -9.31134598e-01]\n",
            " [-1.30140390e-01  1.83479012e-01]\n",
            " [-1.30140390e-01  3.60950733e-01]\n",
            " [-1.30140379e-01  1.54071150e+00]\n",
            " [-1.30140435e-01 -4.00673852e-01]\n",
            " [-1.30140428e-01  7.83206391e-02]\n",
            " [-1.30140427e-01 -6.78255041e-01]\n",
            " [-1.30140381e-01  1.19510582e+00]\n",
            " [-1.30140379e-01  1.94499740e-01]\n",
            " [-1.30140434e-01  1.34998668e-01]\n",
            " [-1.30140376e-01  1.05900255e+00]\n",
            " [-1.30140420e-01 -5.45354835e-01]\n",
            " [-1.30140437e-01 -3.72171969e-01]\n",
            " [-1.30140413e-01  3.10461684e-01]\n",
            " [-1.30140370e-01  1.46014618e+00]\n",
            " [-1.30140428e-01 -1.69292857e-01]\n",
            " [-1.30140456e-01 -6.44107071e-01]]\n"
          ],
          "name": "stdout"
        }
      ]
    },
    {
      "cell_type": "code",
      "metadata": {
        "colab": {
          "base_uri": "https://localhost:8080/"
        },
        "id": "In5qGf76Tls_",
        "outputId": "059bcd96-3a60-4589-dbaf-1e38fba2a8be"
      },
      "source": [
        "print(x_test)"
      ],
      "execution_count": 12,
      "outputs": [
        {
          "output_type": "stream",
          "text": [
            "[[-0.13014039  1.05096773]\n",
            " [-0.13014041  1.18907971]\n",
            " [-0.13014045 -0.54535484]\n",
            " [-0.13014043 -0.56082729]\n",
            " [-0.13014034  0.77094352]\n",
            " [-0.13014048  0.1216435 ]\n",
            " [-0.13014038 -0.09127913]\n",
            " [-0.13014044  0.38114635]\n",
            " [-0.13014032  1.37648637]\n",
            " [-0.13014046 -0.01424262]\n",
            " [-0.13014043 -0.77070972]\n",
            " [-0.13014037  0.64819542]\n",
            " [-0.13014045 -1.72902444]\n",
            " [-0.13014036 -0.13471057]\n",
            " [-0.13014043 -1.15600088]\n",
            " [-0.13014041  1.35287053]\n",
            " [-0.13014038 -1.02766097]\n",
            " [-0.13014041  0.02897167]\n",
            " [-0.13014044 -0.18319092]\n",
            " [-0.13014038 -0.91549928]\n",
            " [-0.13014043 -1.02619516]\n",
            " [-0.13014038  0.25801822]\n",
            " [-0.13014034 -0.7601233 ]\n",
            " [-0.13014038  1.34521574]\n",
            " [-0.13014046  0.07462897]]\n"
          ],
          "name": "stdout"
        }
      ]
    },
    {
      "cell_type": "code",
      "metadata": {
        "colab": {
          "base_uri": "https://localhost:8080/"
        },
        "id": "tTOmlLS5T_uo",
        "outputId": "3ce6d6cb-3a84-4197-fd27-67f41f6b166d"
      },
      "source": [
        "from sklearn.neighbors import KNeighborsClassifier\n",
        "classifier = KNeighborsClassifier(n_neighbors = 5, metric = 'minkowski', p = 2)\n",
        "classifier.fit(x_train, y_train)"
      ],
      "execution_count": 13,
      "outputs": [
        {
          "output_type": "execute_result",
          "data": {
            "text/plain": [
              "KNeighborsClassifier(algorithm='auto', leaf_size=30, metric='minkowski',\n",
              "                     metric_params=None, n_jobs=None, n_neighbors=5, p=2,\n",
              "                     weights='uniform')"
            ]
          },
          "metadata": {
            "tags": []
          },
          "execution_count": 13
        }
      ]
    },
    {
      "cell_type": "code",
      "metadata": {
        "id": "P3ZpKZmqU7JX"
      },
      "source": [
        "y_pred = classifier.predict(x_test)"
      ],
      "execution_count": 14,
      "outputs": []
    },
    {
      "cell_type": "code",
      "metadata": {
        "colab": {
          "base_uri": "https://localhost:8080/"
        },
        "id": "jJ_aJHA_VRuo",
        "outputId": "43b08410-ea3c-432e-f18f-5796e585a6a5"
      },
      "source": [
        "from sklearn.metrics import confusion_matrix\n",
        "cm = confusion_matrix(y_test, y_pred)\n",
        "print(cm)"
      ],
      "execution_count": 15,
      "outputs": [
        {
          "output_type": "stream",
          "text": [
            "[[8 4]\n",
            " [5 8]]\n"
          ],
          "name": "stdout"
        }
      ]
    },
    {
      "cell_type": "code",
      "metadata": {
        "colab": {
          "base_uri": "https://localhost:8080/",
          "height": 349
        },
        "id": "vWRdZ1dqVxZA",
        "outputId": "fbf9b710-9379-4e80-aedc-232effb51b88"
      },
      "source": [
        "from matplotlib.colors import ListedColormap\n",
        "x_set, y_set = x_train, y_train\n",
        "x1, x2 = np.meshgrid(np.arange(start = x_set[:, 0].min() - 1, stop = x_set[:, 0].max() + 1, step = 0.01),\n",
        "                     np.arange(start = x_set[:, 1].min() - 1, stop = x_set[:, 1].max() + 1, step = 0.01))\n",
        "plt.contourf(x1,x2, classifier.predict(np.array([x1.ravel(), x2.ravel()]).T).reshape(x1.shape),\n",
        "            alpha = 0.75, cmap = ListedColormap(('blue','yellow')))\n",
        "plt.xlim(x1.min(),x1.max())\n",
        "plt.xlim(x2.min(),x2.max())\n",
        "for i,j in enumerate(np.unique(y_set)):\n",
        "  plt.scatter(x_set[y_set == j, 0],x_set[y_set == j, 1],\n",
        "              c = ListedColormap(('red','green'))(i),label = j)\n",
        "plt.title('K-NN')\n",
        "plt.xlabel('Time Spent on Site')\n",
        "plt.ylabel('Salary')\n",
        "plt.legend()\n",
        "plt.show()"
      ],
      "execution_count": 16,
      "outputs": [
        {
          "output_type": "stream",
          "text": [
            "*c* argument looks like a single numeric RGB or RGBA sequence, which should be avoided as value-mapping will have precedence in case its length matches with *x* & *y*.  Please use the *color* keyword-argument or provide a 2-D array with a single row if you intend to specify the same RGB or RGBA value for all points.\n",
            "*c* argument looks like a single numeric RGB or RGBA sequence, which should be avoided as value-mapping will have precedence in case its length matches with *x* & *y*.  Please use the *color* keyword-argument or provide a 2-D array with a single row if you intend to specify the same RGB or RGBA value for all points.\n"
          ],
          "name": "stderr"
        },
        {
          "output_type": "display_data",
          "data": {
            "image/png": "[encoded data removed]",
            "text/plain": [
              "<Figure size 432x288 with 1 Axes>"
            ]
          },
          "metadata": {
            "tags": [],
            "needs_background": "light"
          }
        }
      ]
    },
    {
      "cell_type": "code",
      "metadata": {
        "colab": {
          "base_uri": "https://localhost:8080/",
          "height": 349
        },
        "id": "7P90Vj0PWahm",
        "outputId": "45ba1d05-3cc5-4f5d-d0fd-95c779e07530"
      },
      "source": [
        "from matplotlib.colors import ListedColormap\n",
        "x_set, y_set = x_test, y_test\n",
        "x1, x2 = np.meshgrid(np.arange(start = x_set[:, 0].min() - 1, stop = x_set[:, 0].max() + 1, step = 0.01),\n",
        "                     np.arange(start = x_set[:, 1].min() - 1, stop = x_set[:, 1].max() + 1, step = 0.01))\n",
        "plt.contourf(x1,x2, classifier.predict(np.array([x1.ravel(), x2.ravel()]).T).reshape(x1.shape),\n",
        "            alpha = 0.75, cmap = ListedColormap(('blue','yellow')))\n",
        "plt.xlim(x1.min(),x1.max())\n",
        "plt.xlim(x2.min(),x2.max())\n",
        "for i,j in enumerate(np.unique(y_set)):\n",
        "  plt.scatter(x_set[y_set == j, 0],x_set[y_set == j, 1],\n",
        "              c = ListedColormap(('red','green'))(i),label = j)\n",
        "plt.title('K-NN')\n",
        "plt.xlabel('Time Spent on Site')\n",
        "plt.ylabel('Salary')\n",
        "plt.legend()\n",
        "plt.show()"
      ],
      "execution_count": 17,
      "outputs": [
        {
          "output_type": "stream",
          "text": [
            "*c* argument looks like a single numeric RGB or RGBA sequence, which should be avoided as value-mapping will have precedence in case its length matches with *x* & *y*.  Please use the *color* keyword-argument or provide a 2-D array with a single row if you intend to specify the same RGB or RGBA value for all points.\n",
            "*c* argument looks like a single numeric RGB or RGBA sequence, which should be avoided as value-mapping will have precedence in case its length matches with *x* & *y*.  Please use the *color* keyword-argument or provide a 2-D array with a single row if you intend to specify the same RGB or RGBA value for all points.\n"
          ],
          "name": "stderr"
        },
        {
          "output_type": "display_data",
          "data": {
            "image/png": "[encoded data removed]",
            "text/plain": [
              "<Figure size 432x288 with 1 Axes>"
            ]
          },
          "metadata": {
            "tags": [],
            "needs_background": "light"
          }
        }
      ]
    }
  ]
}